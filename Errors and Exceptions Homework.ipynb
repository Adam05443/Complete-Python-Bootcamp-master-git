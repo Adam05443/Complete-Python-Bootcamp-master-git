{
 "cells": [
  {
   "cell_type": "markdown",
   "metadata": {},
   "source": [
    "#Errors and Exceptions Homework - "
   ]
  },
  {
   "cell_type": "markdown",
   "metadata": {},
   "source": [
    "###Problem 1\n",
    "Handle the exception thrown by the code below by using try and except blocks."
   ]
  },
  {
   "cell_type": "code",
   "execution_count": 1,
   "metadata": {},
   "outputs": [
    {
     "name": "stdout",
     "output_type": "stream",
     "text": [
      "The following error was encountered: 'unsupported operand type(s) for ** or pow(): 'str' and 'int''. I will ignore and continue\n"
     ]
    }
   ],
   "source": [
    "try:\n",
    "    for i in ['a','b','c']:\n",
    "        print i**2\n",
    "except Exception as e:\n",
    "    print \"The following error was encountered: '%s'. I will ignore and continue\" %(e)\n",
    "    \n",
    "finally:\n",
    "    pass"
   ]
  },
  {
   "cell_type": "markdown",
   "metadata": {},
   "source": [
    "###Problem 2\n",
    "Handle the exception thrown by the code below by using **try** and **except** blocks. Then use a **finally** block to print 'All Done.'"
   ]
  },
  {
   "cell_type": "code",
   "execution_count": 2,
   "metadata": {},
   "outputs": [
    {
     "name": "stdout",
     "output_type": "stream",
     "text": [
      "The following error was encountered: 'integer division or modulo by zero'\n",
      "All Done\n"
     ]
    }
   ],
   "source": [
    "x = 5\n",
    "y = 0\n",
    "\n",
    "try:\n",
    "    z = x/y\n",
    "except Exception as e:\n",
    "    print \"The following error was encountered: '%s'\" %(e)\n",
    "finally:\n",
    "    print \"All Done\""
   ]
  },
  {
   "cell_type": "markdown",
   "metadata": {},
   "source": [
    "###Problem 3\n",
    "Write a function that asks for an integer and prints the square of it. Use a while loop with a try,except, else block to account for incorrect inputs."
   ]
  },
  {
   "cell_type": "code",
   "execution_count": 5,
   "metadata": {},
   "outputs": [
    {
     "name": "stdout",
     "output_type": "stream",
     "text": [
      "Please input an Integer to get the square: d\n",
      "You need to enter an Integer. Got error: 'invalid literal for int() with base 10: 'd''\n",
      "Please input an Integer to get the square: sd\n",
      "You need to enter an Integer. Got error: 'invalid literal for int() with base 10: 'sd''\n",
      "Please input an Integer to get the square: sd\n",
      "You need to enter an Integer. Got error: 'invalid literal for int() with base 10: 'sd''\n",
      "Please input an Integer to get the square: g\n",
      "You need to enter an Integer. Got error: 'invalid literal for int() with base 10: 'g''\n",
      "Please input an Integer to get the square: 2\n",
      "The square of 2 is 4\n"
     ]
    }
   ],
   "source": [
    "def ask():\n",
    "    while True:\n",
    "        try:\n",
    "            userint = int(raw_input (\"Please input an Integer to get the square: \"))\n",
    "            square = userint ** 2 \n",
    "            print \"The square of %i is %i\" %(userint,square)\n",
    "        except Exception as e:\n",
    "            print \"You need to enter an Integer. Got error: '%s'\" %(e)\n",
    "            continue \n",
    "        else:\n",
    "            break\n",
    "        finally:\n",
    "            pass \n",
    "ask()\n"
   ]
  },
  {
   "cell_type": "code",
   "execution_count": 4,
   "metadata": {},
   "outputs": [
    {
     "name": "stdout",
     "output_type": "stream",
     "text": [
      "Please input an Integer to get the square: d\n",
      "You need to enter an Integer. Got error: 'invalid literal for int() with base 10: 'd''\n",
      "Please input an Integer to get the square: s\n",
      "You need to enter an Integer. Got error: 'invalid literal for int() with base 10: 's''\n",
      "Please input an Integer to get the square: s\n",
      "You need to enter an Integer. Got error: 'invalid literal for int() with base 10: 's''\n",
      "Please input an Integer to get the square: d\n",
      "You need to enter an Integer. Got error: 'invalid literal for int() with base 10: 'd''\n",
      "Please input an Integer to get the square: l\n",
      "You need to enter an Integer. Got error: 'invalid literal for int() with base 10: 'l''\n",
      "Please input an Integer to get the square: d\n",
      "You need to enter an Integer. Got error: 'invalid literal for int() with base 10: 'd''\n",
      "Please input an Integer to get the square: 234234233\n",
      "The square of 234234233 is 54865675909098289\n"
     ]
    }
   ],
   "source": [
    "ask()"
   ]
  },
  {
   "cell_type": "markdown",
   "metadata": {},
   "source": [
    "#Great Job!"
   ]
  },
  {
   "cell_type": "code",
   "execution_count": null,
   "metadata": {
    "collapsed": true
   },
   "outputs": [],
   "source": []
  }
 ],
 "metadata": {
  "kernelspec": {
   "display_name": "Python 2",
   "language": "python",
   "name": "python2"
  },
  "language_info": {
   "codemirror_mode": {
    "name": "ipython",
    "version": 2
   },
   "file_extension": ".py",
   "mimetype": "text/x-python",
   "name": "python",
   "nbconvert_exporter": "python",
   "pygments_lexer": "ipython2",
   "version": "2.7.13"
  }
 },
 "nbformat": 4,
 "nbformat_minor": 1
}
