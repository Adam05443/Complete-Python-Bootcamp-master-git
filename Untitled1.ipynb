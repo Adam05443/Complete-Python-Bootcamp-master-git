{
 "cells": [
  {
   "cell_type": "code",
   "execution_count": 27,
   "metadata": {},
   "outputs": [],
   "source": [
    "class PlayerWallet(object):\n",
    "\t\"\"\"\n",
    "\tKeeps track of a players wallet. They always start at 100 if not defined as something else. \n",
    "\t\"\"\"\n",
    "\tdef __init__(self, wallet=100):\n",
    "\t\tself.wallet = wallet\n",
    "\t\treturn self.wallet\n",
    "\t\t\n",
    "\tdef add_money(self,add_money):\n",
    "\t\tself.wallet = self.wallet + add_money\n",
    "\t\treturn self.wallet \n",
    "\t\t\n",
    "\tdef remove_money(self,remove_money):\n",
    "\t\tself.wallet = self.wallet - remove_money\n",
    "\t\treturn self.wallet \n",
    "    \n",
    "    def wallet_value(self,wallet):"
   ]
  },
  {
   "cell_type": "code",
   "execution_count": 28,
   "metadata": {},
   "outputs": [
    {
     "name": "stdout",
     "output_type": "stream",
     "text": [
      "<class '__main__.PlayerWallet'>\n"
     ]
    }
   ],
   "source": [
    "print PlayerWallet"
   ]
  },
  {
   "cell_type": "code",
   "execution_count": null,
   "metadata": {},
   "outputs": [],
   "source": []
  },
  {
   "cell_type": "code",
   "execution_count": null,
   "metadata": {},
   "outputs": [],
   "source": []
  },
  {
   "cell_type": "code",
   "execution_count": null,
   "metadata": {},
   "outputs": [],
   "source": []
  },
  {
   "cell_type": "code",
   "execution_count": null,
   "metadata": {
    "collapsed": true
   },
   "outputs": [],
   "source": []
  },
  {
   "cell_type": "code",
   "execution_count": null,
   "metadata": {
    "collapsed": true
   },
   "outputs": [],
   "source": []
  }
 ],
 "metadata": {
  "kernelspec": {
   "display_name": "Python 2",
   "language": "python",
   "name": "python2"
  },
  "language_info": {
   "codemirror_mode": {
    "name": "ipython",
    "version": 2
   },
   "file_extension": ".py",
   "mimetype": "text/x-python",
   "name": "python",
   "nbconvert_exporter": "python",
   "pygments_lexer": "ipython2",
   "version": "2.7.13"
  }
 },
 "nbformat": 4,
 "nbformat_minor": 2
}
