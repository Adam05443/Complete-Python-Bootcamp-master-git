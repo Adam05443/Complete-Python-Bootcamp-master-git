{
 "cells": [
  {
   "cell_type": "code",
   "execution_count": 125,
   "metadata": {},
   "outputs": [],
   "source": [
    "class PlayerWallet(object):\n",
    "    \"\"\"\n",
    "    Keeps track of a players wallet. They always start at 100 if not defined as something else. \n",
    "    \"\"\"\n",
    "    def __init__(self, wallet=100):\n",
    "        self.wallet = wallet\n",
    "        #return self.wallet\n",
    "\n",
    "    def add_money(self,add_money):\n",
    "        self.wallet = self.wallet + add_money\n",
    "        #return self.wallet \n",
    "    \n",
    "    def remove_money(self,remove_money):\n",
    "        self.wallet = self.wallet - remove_money\n",
    "        #return self.wallet\n",
    "        \n",
    "class GenDeck(object):\n",
    "    def __init__(self, suit,value):\n",
    "        self.suit = suit\n",
    "        self.value = value \n",
    "        \n",
    "        for suit in self.suit:\n",
    "            for value in self.value:\n",
    "                deck [int(value)] = \"suit\"\n",
    "        \n",
    "        print deck()\n",
    "                \n",
    "    \n",
    "   # def buildcards(self):\n",
    "    #    for suit in self.suit:\n",
    "     #       for value in self.value:\n",
    "      #          deck.append(suit)\n",
    "\n"
   ]
  },
  {
   "cell_type": "code",
   "execution_count": 124,
   "metadata": {},
   "outputs": [
    {
     "name": "stdout",
     "output_type": "stream",
     "text": [
      "[<__main__.Card object at 0x0000000008BEC0B8>, 'suit', <__main__.Card object at 0x0000000008BEC240>, <__main__.Card object at 0x0000000008BEC2E8>, <__main__.Card object at 0x0000000008BEC390>, <__main__.Card object at 0x0000000008BEC400>, <__main__.Card object at 0x0000000008BEC5F8>, <__main__.Card object at 0x0000000008BEC780>, <__main__.Card object at 0x0000000008BEC7B8>, <__main__.Card object at 0x0000000008BEC978>, <__main__.Card object at 0x0000000008BEC9B0>, <__main__.Card object at 0x0000000008BEC9E8>, <__main__.Card object at 0x0000000008BECAC8>, <__main__.Card object at 0x0000000008CB1080>, <__main__.Card object at 0x0000000008CB1470>, <__main__.Card object at 0x0000000008CB1780>, <__main__.Card object at 0x0000000008CB17F0>, <__main__.Card object at 0x0000000008CB1828>, <__main__.Card object at 0x0000000008CB1860>, <__main__.Card object at 0x0000000008CB1898>, <__main__.Card object at 0x0000000008CB18D0>, <__main__.Card object at 0x0000000008CB1908>, <__main__.Card object at 0x0000000008CB1940>, <__main__.Card object at 0x0000000008CB1978>, <__main__.Card object at 0x0000000008CB19B0>, <__main__.Card object at 0x0000000008CB19E8>, <__main__.Card object at 0x0000000008CB1A20>, <__main__.Card object at 0x0000000008CB1A58>, <__main__.Card object at 0x0000000008CB1A90>, <__main__.Card object at 0x0000000008CB1B00>, <__main__.Card object at 0x0000000008CB1B70>, <__main__.Card object at 0x0000000008CB1C50>, <__main__.Card object at 0x0000000008CB1CF8>, <__main__.Card object at 0x0000000008CB1D30>, <__main__.Card object at 0x0000000008CB1D68>, <__main__.Card object at 0x0000000008CB1DA0>, <__main__.Card object at 0x0000000008CB1DD8>, <__main__.Card object at 0x0000000008CB1E10>, <__main__.Card object at 0x0000000008CB1E48>, <__main__.Card object at 0x0000000008CB1E80>, <__main__.Card object at 0x0000000008CB1EB8>, <__main__.Card object at 0x0000000008CB1EF0>, <__main__.Card object at 0x0000000008CB1F28>, <__main__.Card object at 0x0000000008CB1F60>, <__main__.Card object at 0x0000000008CB1F98>, <__main__.Card object at 0x0000000008CB1FD0>, <__main__.Card object at 0x0000000008CBB550>, <__main__.Card object at 0x0000000008CBB588>, <__main__.Card object at 0x0000000008CBB5C0>, <__main__.Card object at 0x0000000008CBB5F8>, <__main__.Card object at 0x0000000008CBB630>, <__main__.Card object at 0x0000000008CBB668>, <__main__.Card object at 0x0000000008CBB6A0>, <__main__.Card object at 0x0000000008CBB6D8>, <__main__.Card object at 0x0000000008CBB710>, 'S', 'S', 'S', 'S', 'S', 'S', 'a', 'a', 'a', 'a', 'a', 'a', 'd', 'd', 'd', 'd', 'd', 'd', 'e', 'e', 'e', 'e', 'e', 'e', 'p', 'p', 'p', 'p', 'p', 'p', 's', 's', 's', 's', 's', 's', 'suit']\n"
     ]
    }
   ],
   "source": [
    "mydeck = GenDeck(\"Spades\",\"1\")\n"
   ]
  },
  {
   "cell_type": "code",
   "execution_count": null,
   "metadata": {
    "collapsed": true
   },
   "outputs": [],
   "source": []
  },
  {
   "cell_type": "code",
   "execution_count": null,
   "metadata": {},
   "outputs": [],
   "source": []
  },
  {
   "cell_type": "code",
   "execution_count": null,
   "metadata": {},
   "outputs": [],
   "source": []
  },
  {
   "cell_type": "code",
   "execution_count": null,
   "metadata": {
    "collapsed": true
   },
   "outputs": [],
   "source": []
  }
 ],
 "metadata": {
  "kernelspec": {
   "display_name": "Python 2",
   "language": "python",
   "name": "python2"
  },
  "language_info": {
   "codemirror_mode": {
    "name": "ipython",
    "version": 2
   },
   "file_extension": ".py",
   "mimetype": "text/x-python",
   "name": "python",
   "nbconvert_exporter": "python",
   "pygments_lexer": "ipython2",
   "version": "2.7.14"
  }
 },
 "nbformat": 4,
 "nbformat_minor": 2
}
