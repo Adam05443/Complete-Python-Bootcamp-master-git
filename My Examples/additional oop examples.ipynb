{
 "cells": [
  {
   "cell_type": "code",
   "execution_count": 19,
   "metadata": {},
   "outputs": [
    {
     "name": "stdout",
     "output_type": "stream",
     "text": [
      "{'pay': 50000, 'raise_amount': 1.05, 'last': 'Schafer', 'email': 'Corey.Schafer@company.com', 'first': 'Corey'}\n",
      "1.06\n",
      "1.05\n",
      "1.06\n",
      "2\n"
     ]
    }
   ],
   "source": [
    "#make an employee class - each employee has pay, number, name, \n",
    "#methods are functions under a class\n",
    "#you make a class becuase each employee will have an instance of Employee. \n",
    "#each new employee we make - is an instance of this class\n",
    "class Employee:\n",
    "    #class variables are variables that are the same on each instance\n",
    "    num_of_emps = 0 \n",
    "    raise_amount = 1.04\n",
    "    \n",
    "    #receive the instance as the first attribute \"self\"\n",
    "    def __init__(self, first, last, pay):\n",
    "        #instance variables \n",
    "        self.first = first\n",
    "        self.last = last\n",
    "        self.pay = pay\n",
    "        self.email = first + '.' + last + '@company.com'\n",
    "        \n",
    "        Employee.num_of_emps += 1\n",
    "        \n",
    "    #adds methods to a class \n",
    "    def fullname(self):\n",
    "        return '{} {}'.format(self.first,self.last)\n",
    "    \n",
    "    def apply_raise(self):\n",
    "        self.pay = int(self.pay * self.raise_amount)\n",
    "        \n",
    "#each of these are instances of the employee class\n",
    "emp_1 = Employee('Corey','Schafer',50000)\n",
    "emp_2 = Employee('Bob','Swindell',60000)\n",
    "\n",
    "#Instance Variables contain data that is unique to each instance. \n",
    "#you can see the values the instance would return. \n",
    "Employee.raise_amount = 1.06\n",
    "#if you do this it re-creates this attribute in the instance\n",
    "emp_1.raise_amount = 1.05\n",
    "print emp_1.__dict__\n",
    "#python will check the intance attribute, and then check class attributre. \n",
    "print Employee.raise_amount\n",
    "print emp_1.raise_amount\n",
    "print emp_2.raise_amount\n",
    "\n",
    "\n",
    "print (Employee.num_of_emps)\n",
    "\n",
    "\n"
   ]
  },
  {
   "cell_type": "code",
   "execution_count": null,
   "metadata": {
    "collapsed": true
   },
   "outputs": [],
   "source": []
  }
 ],
 "metadata": {
  "kernelspec": {
   "display_name": "Python 2",
   "language": "python",
   "name": "python2"
  },
  "language_info": {
   "codemirror_mode": {
    "name": "ipython",
    "version": 2
   },
   "file_extension": ".py",
   "mimetype": "text/x-python",
   "name": "python",
   "nbconvert_exporter": "python",
   "pygments_lexer": "ipython2",
   "version": "2.7.14"
  }
 },
 "nbformat": 4,
 "nbformat_minor": 2
}
