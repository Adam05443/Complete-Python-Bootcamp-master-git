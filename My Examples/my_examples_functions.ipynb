{
 "cells": [
  {
   "cell_type": "code",
   "execution_count": 1,
   "metadata": {
    "collapsed": true
   },
   "outputs": [],
   "source": [
    "#functions boi "
   ]
  },
  {
   "cell_type": "code",
   "execution_count": 2,
   "metadata": {
    "collapsed": true
   },
   "outputs": [],
   "source": [
    "#len() is an example of a function. \n",
    "#what are functions - \n",
    "#useful device that groups together a set of statments so they can be run\n",
    "#more than once. \n",
    "#let us also specify data to put into the function. \n",
    "\n",
    "#basically lets you use code - in a way so you don't need to manually write it out again\n",
    "#and again"
   ]
  },
  {
   "cell_type": "code",
   "execution_count": 3,
   "metadata": {
    "collapsed": true
   },
   "outputs": [],
   "source": [
    "#how to build a function \n",
    "#def %nameoffucntion%(arg1,arg2,arg3,etc...):\n",
    "    #indent [code here]"
   ]
  },
  {
   "cell_type": "code",
   "execution_count": 4,
   "metadata": {
    "collapsed": true
   },
   "outputs": [],
   "source": [
    "def name_of_function():\n",
    "    pass"
   ]
  },
  {
   "cell_type": "code",
   "execution_count": 5,
   "metadata": {
    "collapsed": true
   },
   "outputs": [],
   "source": [
    "#so above we see the function - but now in my code below, you want to \n",
    "#call your function. \n",
    "name_of_function()"
   ]
  },
  {
   "cell_type": "code",
   "execution_count": 6,
   "metadata": {
    "collapsed": true
   },
   "outputs": [],
   "source": [
    "#see above here I've called the function in the code - but in this example, \n",
    "#it does not do anything, and it takes no arguments. "
   ]
  },
  {
   "cell_type": "code",
   "execution_count": 11,
   "metadata": {
    "collapsed": true
   },
   "outputs": [],
   "source": [
    "#here is an example - of the same thing. \n",
    "#but this time I said it takes two arguments. \n",
    "#but it still just passes.\n",
    "def name_of_function2(arg1,arg2):\n",
    "    pass"
   ]
  },
  {
   "cell_type": "code",
   "execution_count": 15,
   "metadata": {},
   "outputs": [
    {
     "ename": "TypeError",
     "evalue": "name_of_function2() takes exactly 2 arguments (0 given)",
     "output_type": "error",
     "traceback": [
      "\u001b[1;31m---------------------------------------------------------------------------\u001b[0m",
      "\u001b[1;31mTypeError\u001b[0m                                 Traceback (most recent call last)",
      "\u001b[1;32m<ipython-input-15-2c89f6698ba2>\u001b[0m in \u001b[0;36m<module>\u001b[1;34m()\u001b[0m\n\u001b[1;32m----> 1\u001b[1;33m \u001b[0mname_of_function2\u001b[0m\u001b[1;33m(\u001b[0m\u001b[1;33m)\u001b[0m\u001b[1;33m\u001b[0m\u001b[0m\n\u001b[0m\u001b[0;32m      2\u001b[0m \u001b[1;31m#in this example - I see I called the function,\u001b[0m\u001b[1;33m\u001b[0m\u001b[1;33m\u001b[0m\u001b[0m\n\u001b[0;32m      3\u001b[0m \u001b[1;31m#but I did not put in arugments like I'm suppose to\u001b[0m\u001b[1;33m\u001b[0m\u001b[1;33m\u001b[0m\u001b[0m\n\u001b[0;32m      4\u001b[0m \u001b[1;31m#so I got the error.\u001b[0m\u001b[1;33m\u001b[0m\u001b[1;33m\u001b[0m\u001b[0m\n",
      "\u001b[1;31mTypeError\u001b[0m: name_of_function2() takes exactly 2 arguments (0 given)"
     ]
    }
   ],
   "source": [
    "name_of_function2()\n",
    "#in this example - I see I called the function, \n",
    "#but I did not put in arugments like I'm suppose to\n",
    "#so I got the error. "
   ]
  },
  {
   "cell_type": "code",
   "execution_count": 16,
   "metadata": {
    "collapsed": true
   },
   "outputs": [],
   "source": [
    "#this is an addition function - it just adds the two arguments \n",
    "#that are passed to it together - and prints them. \n",
    "#you can make doc strings for your functions with tripple quotes\n",
    "def my_addition_func(arg1,arg2):\n",
    "    \"\"\"\n",
    "    Doc string stuff\n",
    "    \"\"\"\n",
    "    print arg1+arg2"
   ]
  },
  {
   "cell_type": "code",
   "execution_count": 17,
   "metadata": {},
   "outputs": [
    {
     "name": "stdout",
     "output_type": "stream",
     "text": [
      "3\n"
     ]
    }
   ],
   "source": [
    "#see here - I've called the function and passed the two arguments to it. \n",
    "my_addition_func(1,2)"
   ]
  },
  {
   "cell_type": "code",
   "execution_count": 18,
   "metadata": {
    "collapsed": true
   },
   "outputs": [],
   "source": [
    "#basic function that just says hello every time you call it. \n",
    "#takes no arguments. \n",
    "def say_hello():\n",
    "    print 'hello'"
   ]
  },
  {
   "cell_type": "code",
   "execution_count": 19,
   "metadata": {},
   "outputs": [
    {
     "name": "stdout",
     "output_type": "stream",
     "text": [
      "hello\n"
     ]
    }
   ],
   "source": [
    "say_hello()"
   ]
  },
  {
   "cell_type": "code",
   "execution_count": 20,
   "metadata": {},
   "outputs": [
    {
     "name": "stdout",
     "output_type": "stream",
     "text": [
      "hello adam\n"
     ]
    }
   ],
   "source": [
    "#basic function that prints hello plus the argument you pass to it. \n",
    "def greeting(name):\n",
    "    print 'hello ' +name\n",
    "#see how I called the function - but also passed a name to it. \n",
    "greeting('adam')"
   ]
  },
  {
   "cell_type": "code",
   "execution_count": 22,
   "metadata": {},
   "outputs": [
    {
     "ename": "TypeError",
     "evalue": "greeting() takes exactly 1 argument (0 given)",
     "output_type": "error",
     "traceback": [
      "\u001b[1;31m---------------------------------------------------------------------------\u001b[0m",
      "\u001b[1;31mTypeError\u001b[0m                                 Traceback (most recent call last)",
      "\u001b[1;32m<ipython-input-22-d22155cbebad>\u001b[0m in \u001b[0;36m<module>\u001b[1;34m()\u001b[0m\n\u001b[1;32m----> 1\u001b[1;33m \u001b[0mgreeting\u001b[0m\u001b[1;33m(\u001b[0m\u001b[1;33m)\u001b[0m\u001b[1;33m\u001b[0m\u001b[0m\n\u001b[0m\u001b[0;32m      2\u001b[0m \u001b[1;31m#see with this error I see it needs the argument.\u001b[0m\u001b[1;33m\u001b[0m\u001b[1;33m\u001b[0m\u001b[0m\n",
      "\u001b[1;31mTypeError\u001b[0m: greeting() takes exactly 1 argument (0 given)"
     ]
    }
   ],
   "source": [
    "greeting()\n",
    "#see with this error I see it needs the argument. "
   ]
  },
  {
   "cell_type": "code",
   "execution_count": null,
   "metadata": {
    "collapsed": true
   },
   "outputs": [],
   "source": [
    "#so lets look at return statements. \n",
    "#return - returns a result we can use as a vairable. "
   ]
  },
  {
   "cell_type": "code",
   "execution_count": 25,
   "metadata": {
    "collapsed": true
   },
   "outputs": [],
   "source": [
    "def add_num(num1,num2):\n",
    "    return num1+num2"
   ]
  },
  {
   "cell_type": "code",
   "execution_count": 28,
   "metadata": {},
   "outputs": [
    {
     "name": "stdout",
     "output_type": "stream",
     "text": [
      "3\n"
     ]
    }
   ],
   "source": [
    "#see basically here I have assigned x - the 'return' of the function. \n",
    "x = add_num(1,2)\n",
    "#printing the value of x - I see it here. \n",
    "print x"
   ]
  },
  {
   "cell_type": "code",
   "execution_count": 31,
   "metadata": {},
   "outputs": [
    {
     "name": "stdout",
     "output_type": "stream",
     "text": [
      "eggbutt\n"
     ]
    }
   ],
   "source": [
    "#no variable types in pythong - so it does not stop you from \n",
    "#adding two strings togther. \n",
    "x = add_num('egg','butt')\n",
    "print x"
   ]
  },
  {
   "cell_type": "code",
   "execution_count": 16,
   "metadata": {
    "collapsed": true
   },
   "outputs": [],
   "source": [
    "#this function will check if a number is prime. only evenly divisible by itself and 1\n",
    "def is_prime(num):\n",
    "    \"\"\"\n",
    "    This function checks for prime numbers.\n",
    "    INPUT: A number\n",
    "    OUTPUT:A print statment whether or not a number is prime. \n",
    "    \"\"\"\n",
    "    #checks all the way from 1 to the number that is input. \n",
    "    for n in xrange(2,num):\n",
    "        if num % n == 0:\n",
    "            print 'Not Prime'\n",
    "            break\n",
    "    else:\n",
    "        print \"The number is prime!\""
   ]
  },
  {
   "cell_type": "code",
   "execution_count": 17,
   "metadata": {},
   "outputs": [
    {
     "name": "stdout",
     "output_type": "stream",
     "text": [
      "The number is prime!\n"
     ]
    }
   ],
   "source": [
    "is_prime(99901)"
   ]
  },
  {
   "cell_type": "code",
   "execution_count": null,
   "metadata": {},
   "outputs": [],
   "source": []
  },
  {
   "cell_type": "code",
   "execution_count": null,
   "metadata": {},
   "outputs": [
    {
     "name": "stdout",
     "output_type": "stream",
     "text": [
      "input a number...10000001\n",
      "Your number is really large, it will take a while - do you want to continue? y/nn\n",
      "good bye\n"
     ]
    },
    {
     "ename": "NameError",
     "evalue": "name 'primes2' is not defined",
     "output_type": "error",
     "traceback": [
      "\u001b[1;31m\u001b[0m",
      "\u001b[1;31mNameError\u001b[0mTraceback (most recent call last)",
      "\u001b[1;32m<ipython-input-1-57f199840abe>\u001b[0m in \u001b[0;36m<module>\u001b[1;34m()\u001b[0m\n\u001b[0;32m     41\u001b[0m         \u001b[1;32mprint\u001b[0m \u001b[1;34m\"goodbye\"\u001b[0m\u001b[1;33m\u001b[0m\u001b[0m\n\u001b[0;32m     42\u001b[0m         \u001b[0mquit\u001b[0m\u001b[1;33m(\u001b[0m\u001b[1;33m)\u001b[0m\u001b[1;33m\u001b[0m\u001b[0m\n\u001b[1;32m---> 43\u001b[1;33m \u001b[1;32mprint\u001b[0m \u001b[1;33m(\u001b[0m\u001b[0mprimes2\u001b[0m\u001b[1;33m)\u001b[0m\u001b[1;33m\u001b[0m\u001b[0m\n\u001b[0m",
      "\u001b[1;31mNameError\u001b[0m: name 'primes2' is not defined"
     ]
    }
   ],
   "source": [
    "#this is a big fancy way to print out all primes between 2 and \n",
    "#whatever you input. \n",
    "import math\n",
    "\n",
    "def primeSieve(sieveSize):\n",
    "     # Returns a list of prime numbers calculated using\n",
    "     # the Sieve of Eratosthenes algorithm.\n",
    "\n",
    "     sieve = [True] * sieveSize\n",
    "     sieve[0] = False # zero and one are not prime numbers\n",
    "     sieve[1] = False\n",
    "\n",
    "     # create the sieve\n",
    "     for i in xrange(2, int(math.sqrt(sieveSize)) + 1):\n",
    "         pointer = i * 2\n",
    "         while pointer < sieveSize:\n",
    "             sieve[pointer] = False\n",
    "             pointer += i\n",
    "\n",
    "     # compile the list of primes\n",
    "     primes = []\n",
    "     for i in xrange(sieveSize):\n",
    "         if sieve[i] == True:\n",
    "             primes.append(i)\n",
    "\n",
    "     return primes\n",
    "\t \n",
    "\n",
    "sieveSize = int(raw_input(\"input a number...\"))\n",
    "\n",
    "if sieveSize < 1000000:\n",
    "    primes2 = primeSieve(sieveSize)\n",
    "    \n",
    "elif sieveSize > 1000000:\n",
    "    cont_answer = raw_input(\"Your number is really large, it will take a while - do you want to continue? y/n\")\n",
    "    if cont_answer == \"y\":\n",
    "        primes2 = primeSieve(sieveSize)\n",
    "    elif cont_answer == \"n\":\n",
    "        print \"goodbye\"\n",
    "        quit()\n",
    "    else:\n",
    "        print \"goodbye\"\n",
    "        quit()\n",
    "        \n",
    "print (primes)\n"
   ]
  },
  {
   "cell_type": "code",
   "execution_count": null,
   "metadata": {
    "collapsed": true
   },
   "outputs": [],
   "source": []
  }
 ],
 "metadata": {
  "kernelspec": {
   "display_name": "Python 2",
   "language": "python",
   "name": "python2"
  },
  "language_info": {
   "codemirror_mode": {
    "name": "ipython",
    "version": 2
   },
   "file_extension": ".py",
   "mimetype": "text/x-python",
   "name": "python",
   "nbconvert_exporter": "python",
   "pygments_lexer": "ipython2",
   "version": "2.7.14"
  }
 },
 "nbformat": 4,
 "nbformat_minor": 2
}
