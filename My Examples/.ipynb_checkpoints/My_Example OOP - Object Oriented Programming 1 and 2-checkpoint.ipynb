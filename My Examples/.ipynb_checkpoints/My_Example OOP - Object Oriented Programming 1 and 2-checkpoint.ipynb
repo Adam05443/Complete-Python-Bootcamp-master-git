{
 "cells": [
  {
   "cell_type": "markdown",
   "metadata": {},
   "source": [
    "Objects \n",
    "using the class keyworkd\n",
    "class attributes\n",
    "createing methods in classes\n",
    "learning about inheritance\n",
    "learning about special methods for classes"
   ]
  },
  {
   "cell_type": "code",
   "execution_count": 1,
   "metadata": {
    "collapsed": true
   },
   "outputs": [],
   "source": [
    "#start out by remembering the basic python objects \n",
    "#list example. \n",
    "\n",
    "l = [1,2,3]"
   ]
  },
  {
   "cell_type": "code",
   "execution_count": 2,
   "metadata": {},
   "outputs": [
    {
     "data": {
      "text/plain": [
       "1"
      ]
     },
     "execution_count": 2,
     "metadata": {},
     "output_type": "execute_result"
    }
   ],
   "source": [
    "#count is a method you can use on the object list. \n",
    "#count shows how many times 2 shows up. \n",
    "l.count(2)"
   ]
  },
  {
   "cell_type": "code",
   "execution_count": 8,
   "metadata": {},
   "outputs": [],
   "source": [
    "#I would maybe like to create an object like a list. My own list object. \n",
    "\n",
    "#OBJECTS\n",
    "\n",
    "#We need to make our own object. \n",
    "#In Python everything is an object - and we can use the type fuction to show me what type of object  it is. "
   ]
  },
  {
   "cell_type": "code",
   "execution_count": 13,
   "metadata": {},
   "outputs": [
    {
     "data": {
      "text/plain": [
       "dict"
      ]
     },
     "execution_count": 13,
     "metadata": {},
     "output_type": "execute_result"
    }
   ],
   "source": [
    "type((1,2)) \n",
    "type({'k1':1})\n",
    "#type([1,2,3])"
   ]
  },
  {
   "cell_type": "code",
   "execution_count": null,
   "metadata": {},
   "outputs": [],
   "source": [
    "#how can we create our own object types. \n",
    "#uses the class keyword. \n"
   ]
  },
  {
   "cell_type": "code",
   "execution_count": 14,
   "metadata": {
    "collapsed": true
   },
   "outputs": [],
   "source": [
    "#PART 2\n",
    "#class names are capitalised\n",
    "#function names are lowercase - need to pass in (object) as a parameter\n",
    "#we can define attributes - a charateristic of the object (breed, name). \n",
    "#mehod is an operation we can preform with the object (maybe a bark method that returns a bark sound). \n",
    "class Sample(object):\n",
    "    pass \n"
   ]
  },
  {
   "cell_type": "code",
   "execution_count": 15,
   "metadata": {
    "collapsed": true
   },
   "outputs": [],
   "source": [
    "#we need to make an instance of our sample class. \n",
    "#instaticate the sample class \n",
    "x = Sample()"
   ]
  },
  {
   "cell_type": "code",
   "execution_count": 16,
   "metadata": {},
   "outputs": [
    {
     "data": {
      "text/plain": [
       "__main__.Sample"
      ]
     },
     "execution_count": 16,
     "metadata": {},
     "output_type": "execute_result"
    }
   ],
   "source": [
    "#see we can now check it's type. \n",
    "type(x)"
   ]
  },
  {
   "cell_type": "code",
   "execution_count": 18,
   "metadata": {},
   "outputs": [],
   "source": [
    "#attributes are lke this. \n",
    "#self.attribute = something\n",
    "#__init__() starts instanciate the attributes of an object. \n"
   ]
  },
  {
   "cell_type": "code",
   "execution_count": 42,
   "metadata": {},
   "outputs": [],
   "source": [
    "class Dog(object):\n",
    "    #class object attribute \n",
    "    species = 'mammal'\n",
    "    legs = 4\n",
    "    #if you want something that is ALWAYS the same (attribute wise) - for an object. Put it before any def __init__ stuff. \n",
    "    \n",
    "    # method (when you put a function in class, it's called a method)\n",
    "    #these look like functions, but they are methods. \n",
    "    #this is called automatically right after the object is created. \n",
    "    #you always start with the self refrence - normal convention. \n",
    "    #breed is the argument and the value is passed during class init\n",
    "    def __init__(self,breed,name,size,fur=True):\n",
    "        self.name = name \n",
    "        self.size = size \n",
    "        self.fur = fur\n",
    "        self.breed = breed\n",
    "        \n",
    "        \n",
    "    "
   ]
  },
  {
   "cell_type": "code",
   "execution_count": 46,
   "metadata": {},
   "outputs": [],
   "source": [
    "sam = Dog(breed='Huskie', name = \"KAL\", size = \"large\")"
   ]
  },
  {
   "cell_type": "code",
   "execution_count": 47,
   "metadata": {},
   "outputs": [
    {
     "name": "stdout",
     "output_type": "stream",
     "text": [
      "Huskie\n",
      "mammal\n",
      "KAL\n",
      "True\n",
      "large\n"
     ]
    }
   ],
   "source": [
    "print (sam.breed)\n",
    "print (sam.species)\n",
    "print (sam.name)\n",
    "print (sam.fur)\n",
    "print (sam.size)"
   ]
  },
  {
   "cell_type": "code",
   "execution_count": 163,
   "metadata": {},
   "outputs": [],
   "source": [
    "import math\n",
    "#METHODS within a class. \n",
    "#Constructing function syntax within a class 'def' used to preform something with the attributes of our objects. \n",
    "#allows you devide responsibiltes in programming \n",
    "\n",
    "class Circle(object):\n",
    "    #class object attributes \n",
    "    \n",
    "    pi = math.pi \n",
    "    #method inside of a class\n",
    "    def __init__(self,perimeter,radius=1):\n",
    "        self.radius = radius\n",
    "        self.perimeter = perimeter\n",
    "        \n",
    "    #doing another method \n",
    "    #you need to do self.radius becuase you need to tell it to refrence the value in this class. \n",
    "    #Circle.pi because you need to tell it to use the pi value in the class object attributes. \n",
    "    def area(self):\n",
    "        # radius**2 * pi \n",
    "        return self.radius**2 * Circle.pi\n",
    "    \n",
    "    def set_radius(self,new_radius):\n",
    "        \"\"\"\n",
    "        This Method takes in a radius, and resets the current radius of the circle. \n",
    "        \"\"\"\n",
    "        self.radius = new_radius\n",
    "    \n",
    "    def get_radius(self):\n",
    "        return self.radius \n",
    "    \n",
    "    #also take in parementer as an attribute \n",
    "    \n",
    "    def perimeter(self):\n",
    "        return self.perimeter\n",
    "        \n",
    "        "
   ]
  },
  {
   "cell_type": "code",
   "execution_count": 166,
   "metadata": {},
   "outputs": [],
   "source": [
    "c = Circle(perimeter = 42,radius=10)"
   ]
  },
  {
   "cell_type": "code",
   "execution_count": 167,
   "metadata": {},
   "outputs": [
    {
     "data": {
      "text/plain": [
       "3.141592653589793"
      ]
     },
     "execution_count": 167,
     "metadata": {},
     "output_type": "execute_result"
    }
   ],
   "source": [
    "c.pi"
   ]
  },
  {
   "cell_type": "code",
   "execution_count": 158,
   "metadata": {},
   "outputs": [
    {
     "data": {
      "text/plain": [
       "314.1592653589793"
      ]
     },
     "execution_count": 158,
     "metadata": {},
     "output_type": "execute_result"
    }
   ],
   "source": [
    "c.area()"
   ]
  },
  {
   "cell_type": "code",
   "execution_count": 159,
   "metadata": {},
   "outputs": [
    {
     "data": {
      "text/plain": [
       "10"
      ]
     },
     "execution_count": 159,
     "metadata": {},
     "output_type": "execute_result"
    }
   ],
   "source": [
    "c.radius"
   ]
  },
  {
   "cell_type": "code",
   "execution_count": 160,
   "metadata": {
    "collapsed": true
   },
   "outputs": [],
   "source": [
    "c.set_radius(20)"
   ]
  },
  {
   "cell_type": "code",
   "execution_count": 161,
   "metadata": {},
   "outputs": [
    {
     "data": {
      "text/plain": [
       "20"
      ]
     },
     "execution_count": 161,
     "metadata": {},
     "output_type": "execute_result"
    }
   ],
   "source": [
    "c.radius"
   ]
  },
  {
   "cell_type": "code",
   "execution_count": 162,
   "metadata": {},
   "outputs": [
    {
     "data": {
      "text/plain": [
       "20"
      ]
     },
     "execution_count": 162,
     "metadata": {},
     "output_type": "execute_result"
    }
   ],
   "source": [
    "c.get_radius()"
   ]
  },
  {
   "cell_type": "code",
   "execution_count": 148,
   "metadata": {},
   "outputs": [
    {
     "data": {
      "text/plain": [
       "42"
      ]
     },
     "execution_count": 148,
     "metadata": {},
     "output_type": "execute_result"
    }
   ],
   "source": [
    "c.perimeter"
   ]
  },
  {
   "cell_type": "code",
   "execution_count": 149,
   "metadata": {},
   "outputs": [
    {
     "data": {
      "text/plain": [
       "42"
      ]
     },
     "execution_count": 149,
     "metadata": {},
     "output_type": "execute_result"
    }
   ],
   "source": [
    "c.get_perimeter()"
   ]
  },
  {
   "cell_type": "code",
   "execution_count": 170,
   "metadata": {
    "collapsed": true
   },
   "outputs": [],
   "source": [
    "#Inheritance \n",
    "#instead of object in the ()  - no inhertiance \n",
    "#you can refrence something else here. \n",
    "class Animal(object):\n",
    "    def __init__(self):\n",
    "        print \"Animal Created\"\n",
    "        \n",
    "    def whoAmI(self):\n",
    "        print \"Animal\"\n",
    "    \n",
    "    def eat (self):\n",
    "        print \"Eating\"\n",
    "    \n"
   ]
  },
  {
   "cell_type": "code",
   "execution_count": 171,
   "metadata": {},
   "outputs": [],
   "source": [
    "#This class Dog - inherrits everything from Animal class\n",
    "class Dog(Animal):\n",
    "    \n",
    "    def __init__(self):\n",
    "        Animal.__init__(self) #we have init the stuff from the animal class in here \n",
    "        print \"Dog Created\"\n",
    "        \n",
    "    def whoAmI(self):\n",
    "        print \"Dog\"\n",
    "    \n",
    "    def bark(self):\n",
    "        print \"Woof!\"\n",
    "    "
   ]
  },
  {
   "cell_type": "code",
   "execution_count": 172,
   "metadata": {},
   "outputs": [
    {
     "name": "stdout",
     "output_type": "stream",
     "text": [
      "Animal Created\n",
      "Dog Created\n"
     ]
    }
   ],
   "source": [
    "d = Dog()"
   ]
  },
  {
   "cell_type": "code",
   "execution_count": 174,
   "metadata": {},
   "outputs": [
    {
     "name": "stdout",
     "output_type": "stream",
     "text": [
      "Dog\n"
     ]
    }
   ],
   "source": [
    "d.whoAmI()"
   ]
  },
  {
   "cell_type": "code",
   "execution_count": 175,
   "metadata": {},
   "outputs": [
    {
     "name": "stdout",
     "output_type": "stream",
     "text": [
      "Eating\n"
     ]
    }
   ],
   "source": [
    "d.eat() #we can call methods from the animal class from within the dog class. "
   ]
  },
  {
   "cell_type": "code",
   "execution_count": 176,
   "metadata": {},
   "outputs": [
    {
     "name": "stdout",
     "output_type": "stream",
     "text": [
      "Woof!\n"
     ]
    }
   ],
   "source": [
    "d.bark()"
   ]
  },
  {
   "cell_type": "code",
   "execution_count": 178,
   "metadata": {},
   "outputs": [
    {
     "name": "stdout",
     "output_type": "stream",
     "text": [
      "Dog\n"
     ]
    }
   ],
   "source": [
    "d.whoAmI() #The local method of the dog class will override the remote method of animal - if there is a method with the same name in both "
   ]
  },
  {
   "cell_type": "code",
   "execution_count": 180,
   "metadata": {},
   "outputs": [
    {
     "name": "stdout",
     "output_type": "stream",
     "text": [
      "[1, 2, 3]\n"
     ]
    },
    {
     "data": {
      "text/plain": [
       "3"
      ]
     },
     "execution_count": 180,
     "metadata": {},
     "output_type": "execute_result"
    }
   ],
   "source": [
    "#Special Method Part 5  \n",
    "#\n",
    "\n",
    "#python automagically knows what to do with this. It is a special built in method. \n",
    "l = [1,2,3]\n",
    "print l \n",
    "len(l)\n"
   ]
  },
  {
   "cell_type": "code",
   "execution_count": 208,
   "metadata": {
    "collapsed": true
   },
   "outputs": [],
   "source": [
    "class Book(object):\n",
    "    \n",
    "    def __init__(self,title,author,pages):\n",
    "        \n",
    "        print \"A book has been created!\"\n",
    "        self.title = title\n",
    "        self.author = author \n",
    "        self.pages = pages \n",
    "        \n",
    "    \n",
    "    #special methods \n",
    "\n",
    "    def __str__(self): #this is the str method. Just basically lets be do 'print b' later on. \n",
    "        \n",
    "        return \"Title: %s, Author: %s, pages %s \" %(self.title,self.author,self.pages)\n",
    "\n",
    "    def __len__(self): #this is a len method. Justs me do a len(b) on something. \n",
    "        return self.pages\n",
    "    \n",
    "    def __del__(self):\n",
    "        print \"A book is gone.\""
   ]
  },
  {
   "cell_type": "code",
   "execution_count": 216,
   "metadata": {},
   "outputs": [
    {
     "name": "stdout",
     "output_type": "stream",
     "text": [
      "A book has been created!\n"
     ]
    }
   ],
   "source": [
    "b = Book('Python', 'Jose', 101)"
   ]
  },
  {
   "cell_type": "code",
   "execution_count": 217,
   "metadata": {},
   "outputs": [
    {
     "name": "stdout",
     "output_type": "stream",
     "text": [
      "[1, 2, 3]\n"
     ]
    }
   ],
   "source": [
    "print l "
   ]
  },
  {
   "cell_type": "code",
   "execution_count": 218,
   "metadata": {},
   "outputs": [
    {
     "name": "stdout",
     "output_type": "stream",
     "text": [
      "Title: Python, Author: Jose, pages 101 \n"
     ]
    }
   ],
   "source": [
    "#what happens if I just want to print this book? \n",
    "#To start it just prints out some junk from memory. \n",
    "print b"
   ]
  },
  {
   "cell_type": "code",
   "execution_count": 219,
   "metadata": {},
   "outputs": [
    {
     "name": "stdout",
     "output_type": "stream",
     "text": [
      "Title: Python, Author: Jose, pages 101 \n"
     ]
    }
   ],
   "source": [
    "print b #after creating the _str_ method I can just print b. "
   ]
  },
  {
   "cell_type": "code",
   "execution_count": 220,
   "metadata": {},
   "outputs": [
    {
     "data": {
      "text/plain": [
       "101"
      ]
     },
     "execution_count": 220,
     "metadata": {},
     "output_type": "execute_result"
    }
   ],
   "source": [
    "len(b)"
   ]
  },
  {
   "cell_type": "code",
   "execution_count": 221,
   "metadata": {},
   "outputs": [
    {
     "name": "stdout",
     "output_type": "stream",
     "text": [
      "A book is gone.\n"
     ]
    }
   ],
   "source": [
    "del b\n"
   ]
  },
  {
   "cell_type": "code",
   "execution_count": 222,
   "metadata": {},
   "outputs": [
    {
     "ename": "NameError",
     "evalue": "name 'b' is not defined",
     "output_type": "error",
     "traceback": [
      "\u001b[1;31m\u001b[0m",
      "\u001b[1;31mNameError\u001b[0mTraceback (most recent call last)",
      "\u001b[1;32m<ipython-input-222-ab3a5d8f1075>\u001b[0m in \u001b[0;36m<module>\u001b[1;34m()\u001b[0m\n\u001b[1;32m----> 1\u001b[1;33m \u001b[1;32mprint\u001b[0m \u001b[0mb\u001b[0m\u001b[1;33m\u001b[0m\u001b[0m\n\u001b[0m",
      "\u001b[1;31mNameError\u001b[0m: name 'b' is not defined"
     ]
    }
   ],
   "source": [
    "print b"
   ]
  },
  {
   "cell_type": "code",
   "execution_count": null,
   "metadata": {
    "collapsed": true
   },
   "outputs": [],
   "source": []
  },
  {
   "cell_type": "code",
   "execution_count": null,
   "metadata": {
    "collapsed": true
   },
   "outputs": [],
   "source": []
  }
 ],
 "metadata": {
  "kernelspec": {
   "display_name": "Python 2",
   "language": "python",
   "name": "python2"
  },
  "language_info": {
   "codemirror_mode": {
    "name": "ipython",
    "version": 2
   },
   "file_extension": ".py",
   "mimetype": "text/x-python",
   "name": "python",
   "nbconvert_exporter": "python",
   "pygments_lexer": "ipython2",
   "version": "2.7.13"
  }
 },
 "nbformat": 4,
 "nbformat_minor": 2
}
