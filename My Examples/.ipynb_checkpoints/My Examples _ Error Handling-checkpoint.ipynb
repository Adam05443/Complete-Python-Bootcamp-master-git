{
 "cells": [
  {
   "cell_type": "code",
   "execution_count": 9,
   "metadata": {},
   "outputs": [
    {
     "ename": "TypeError",
     "evalue": "unsupported operand type(s) for +: 'int' and 'str'",
     "output_type": "error",
     "traceback": [
      "\u001b[1;31m\u001b[0m",
      "\u001b[1;31mTypeError\u001b[0mTraceback (most recent call last)",
      "\u001b[1;32m<ipython-input-9-842879d18793>\u001b[0m in \u001b[0;36m<module>\u001b[1;34m()\u001b[0m\n\u001b[1;32m----> 1\u001b[1;33m \u001b[1;36m2\u001b[0m \u001b[1;33m+\u001b[0m \u001b[1;34m's'\u001b[0m\u001b[1;33m\u001b[0m\u001b[0m\n\u001b[0m",
      "\u001b[1;31mTypeError\u001b[0m: unsupported operand type(s) for +: 'int' and 'str'"
     ]
    }
   ],
   "source": [
    "#try to make an error \n",
    "\n",
    "2 + 's'\n"
   ]
  },
  {
   "cell_type": "code",
   "execution_count": 10,
   "metadata": {},
   "outputs": [
    {
     "name": "stdout",
     "output_type": "stream",
     "text": [
      "There was a type error\n"
     ]
    }
   ],
   "source": [
    "#put the code you want to try into the try block\n",
    "try:\n",
    "    2 + 's'\n",
    "    \n",
    "#Put the exceptions you might encouter here - and you can run other code becuase of the error. \n",
    "#you can just do \"except:\" without the type of error. If you just want to catch everything. \n",
    "except TypeError:\n",
    "    print \"There was a type error\"\n",
    "#finally block - eventually runs no matter what (if there was an error or not)\n",
    "finally:\n",
    "    print \"Finally this was printed\""
   ]
  },
  {
   "cell_type": "code",
   "execution_count": 22,
   "metadata": {},
   "outputs": [
    {
     "name": "stdout",
     "output_type": "stream",
     "text": [
      "File write was a success\n",
      "Always Execute Finally code Blocks.\n"
     ]
    }
   ],
   "source": [
    "try:\n",
    "    f = open('testfile123.txt', 'w')\n",
    "    f.write(\"Test write this.\")\n",
    "    f.close()\n",
    "except: \n",
    "    print \"Error in writing to the file!\"\n",
    "#else statement will run only if errors does not occur. \n",
    "else:\n",
    "    print \"File write was a success\"\n",
    "#finally block would run no matter what. \n",
    "finally:\n",
    "    print \"Always Execute Finally code Blocks.\" \n"
   ]
  },
  {
   "cell_type": "code",
   "execution_count": 16,
   "metadata": {
    "collapsed": true
   },
   "outputs": [],
   "source": [
    "#this type of stuff is really helpufl for checking for input errors or looping back around if there is an error. "
   ]
  },
  {
   "cell_type": "code",
   "execution_count": 26,
   "metadata": {},
   "outputs": [
    {
     "name": "stdout",
     "output_type": "stream",
     "text": [
      "Please enter an Integer: s\n",
      "Looks like you did not enter an Integer!\n",
      "Finally block executed!\n"
     ]
    },
    {
     "ename": "UnboundLocalError",
     "evalue": "local variable 'val' referenced before assignment",
     "output_type": "error",
     "traceback": [
      "\u001b[1;31m\u001b[0m",
      "\u001b[1;31mUnboundLocalError\u001b[0mTraceback (most recent call last)",
      "\u001b[1;32m<ipython-input-26-afbcff56f8c2>\u001b[0m in \u001b[0;36m<module>\u001b[1;34m()\u001b[0m\n\u001b[0;32m      8\u001b[0m         \u001b[1;32mprint\u001b[0m \u001b[1;34m\"Finally block executed!\"\u001b[0m\u001b[1;33m\u001b[0m\u001b[0m\n\u001b[0;32m      9\u001b[0m     \u001b[1;32mprint\u001b[0m \u001b[0mval\u001b[0m\u001b[1;33m\u001b[0m\u001b[0m\n\u001b[1;32m---> 10\u001b[1;33m \u001b[0maskint\u001b[0m\u001b[1;33m(\u001b[0m\u001b[1;33m)\u001b[0m\u001b[1;33m\u001b[0m\u001b[0m\n\u001b[0m",
      "\u001b[1;32m<ipython-input-26-afbcff56f8c2>\u001b[0m in \u001b[0;36maskint\u001b[1;34m()\u001b[0m\n\u001b[0;32m      7\u001b[0m     \u001b[1;32mfinally\u001b[0m\u001b[1;33m:\u001b[0m\u001b[1;33m\u001b[0m\u001b[0m\n\u001b[0;32m      8\u001b[0m         \u001b[1;32mprint\u001b[0m \u001b[1;34m\"Finally block executed!\"\u001b[0m\u001b[1;33m\u001b[0m\u001b[0m\n\u001b[1;32m----> 9\u001b[1;33m     \u001b[1;32mprint\u001b[0m \u001b[0mval\u001b[0m\u001b[1;33m\u001b[0m\u001b[0m\n\u001b[0m\u001b[0;32m     10\u001b[0m \u001b[0maskint\u001b[0m\u001b[1;33m(\u001b[0m\u001b[1;33m)\u001b[0m\u001b[1;33m\u001b[0m\u001b[0m\n",
      "\u001b[1;31mUnboundLocalError\u001b[0m: local variable 'val' referenced before assignment"
     ]
    }
   ],
   "source": [
    "#making a function that takes no inputs. \n",
    "def askint():\n",
    "    try:\n",
    "        val = int(raw_input(\"Please enter an Integer: \"))\n",
    "    except:\n",
    "        print \"Looks like you did not enter an Integer!\"\n",
    "    finally:\n",
    "        print \"Finally block executed!\"\n",
    "    print val\n",
    "askint()"
   ]
  },
  {
   "cell_type": "code",
   "execution_count": 30,
   "metadata": {},
   "outputs": [
    {
     "name": "stdout",
     "output_type": "stream",
     "text": [
      "Please enter an Integer: s\n",
      "Looks like you did not enter an Integer!\n",
      "Finally block executed!\n",
      "Please enter an Integer: s\n",
      "Looks like you did not enter an Integer!\n",
      "Finally block executed!\n",
      "Please enter an Integer: s\n",
      "Looks like you did not enter an Integer!\n",
      "Finally block executed!\n",
      "Please enter an Integer: s\n",
      "Looks like you did not enter an Integer!\n",
      "Finally block executed!\n",
      "Please enter an Integer: s\n",
      "Looks like you did not enter an Integer!\n",
      "Finally block executed!\n",
      "Please enter an Integer: s\n",
      "Looks like you did not enter an Integer!\n",
      "Finally block executed!\n",
      "Please enter an Integer: s\n",
      "Looks like you did not enter an Integer!\n",
      "Finally block executed!\n",
      "Please enter an Integer: s\n",
      "Looks like you did not enter an Integer!\n",
      "Finally block executed!\n",
      "Please enter an Integer: s\n",
      "Looks like you did not enter an Integer!\n",
      "Finally block executed!\n",
      "Please enter an Integer: 1\n",
      "Correct that is an Integer!\n",
      "Finally block executed!\n"
     ]
    }
   ],
   "source": [
    "def askint():\n",
    "    \n",
    "    while True:\n",
    "        try:\n",
    "            val = int(raw_input(\"Please enter an Integer: \"))\n",
    "\n",
    "        except:\n",
    "            print \"Looks like you did not enter an Integer!\"\n",
    "            continue\n",
    "        \n",
    "        else: \n",
    "            print \"Correct that is an Integer!\"\n",
    "            break \n",
    "            \n",
    "        finally:\n",
    "            print \"Finally block executed!\"\n",
    "        \n",
    "        print val\n",
    "    \n",
    "askint()"
   ]
  },
  {
   "cell_type": "code",
   "execution_count": null,
   "metadata": {
    "collapsed": true
   },
   "outputs": [],
   "source": [
    "s"
   ]
  }
 ],
 "metadata": {
  "kernelspec": {
   "display_name": "Python 2",
   "language": "python",
   "name": "python2"
  },
  "language_info": {
   "codemirror_mode": {
    "name": "ipython",
    "version": 2
   },
   "file_extension": ".py",
   "mimetype": "text/x-python",
   "name": "python",
   "nbconvert_exporter": "python",
   "pygments_lexer": "ipython2",
   "version": "2.7.13"
  }
 },
 "nbformat": 4,
 "nbformat_minor": 2
}
