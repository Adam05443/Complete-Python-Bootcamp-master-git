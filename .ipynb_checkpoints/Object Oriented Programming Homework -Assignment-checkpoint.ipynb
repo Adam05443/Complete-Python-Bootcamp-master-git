{
 "cells": [
  {
   "cell_type": "markdown",
   "metadata": {},
   "source": [
    "# Object Oriented Programming\n",
    "## Homework Assignment\n",
    "\n",
    "####Problem 1\n",
    "Fill in the Line class methods to accept coordinate as a pair of tuples and return the slope and distance of the line."
   ]
  },
  {
   "cell_type": "code",
   "execution_count": 74,
   "metadata": {},
   "outputs": [],
   "source": [
    "import math\n",
    "class Line(object):\n",
    "    def __init__(self,coor1,coor2):\n",
    "        #attributes for this instance of this object. \n",
    "        self.coor1 = coor1 \n",
    "        self.coor2 = coor2 \n",
    "    \n",
    "    def distance(self):\n",
    "        \"\"\"\n",
    "        returns the distance from two coordinates\n",
    "        d = sqrt((x2 - x1)**2 + (y2 - y1)**2)\n",
    "        \"\"\"\n",
    "        return float(math.sqrt((self.coor2[0] - self.coor1[0])**2 + (self.coor2[1] - self.coor1[1])**2))\n",
    "    \n",
    "    def slope(self):\n",
    "        \"\"\"\n",
    "        returns the slope from two coordinates\n",
    "        s = (y2 - y1) / (x2 - x1)\n",
    "        \"\"\"\n",
    "        return float(self.coor2[1] - self.coor1[1]) / (self.coor2[0] - self.coor1[0])\n",
    "        "
   ]
  },
  {
   "cell_type": "code",
   "execution_count": 75,
   "metadata": {
    "collapsed": true
   },
   "outputs": [],
   "source": [
    "#input coordinates \n",
    "coordinate1 = (3,2)\n",
    "coordinate2 = (8,10)\n",
    "\n",
    "#call line class - pass in the two vars to coor1, coor2. \n",
    "#assign it to the var li. \n",
    "li = Line(coordinate1,coordinate2)"
   ]
  },
  {
   "cell_type": "code",
   "execution_count": 76,
   "metadata": {},
   "outputs": [
    {
     "name": "stdout",
     "output_type": "stream",
     "text": [
      "For points 3, 2 and 8, 10 distance between them is is 9.433981\n"
     ]
    }
   ],
   "source": [
    "#just some print crap i did. \n",
    "#you can call the attributes with li.coor1 or li.coor2. \n",
    "#you can pull info out of the methods with the li.distance() or li.slope()\n",
    "print \"For points %i, %i and %i, %i distance between them is is %f\" %(li.coor1[0],li.coor1[1],li.coor2[0],li.coor2[1],li.distance())\n"
   ]
  },
  {
   "cell_type": "code",
   "execution_count": 77,
   "metadata": {},
   "outputs": [
    {
     "name": "stdout",
     "output_type": "stream",
     "text": [
      "Your coordinates are (3, 2) and (8, 10)\n",
      "The distance between the points are 9.433981\n",
      "The slope of the line is 1.600000\n"
     ]
    }
   ],
   "source": [
    "print \"Your coordinates are %s and %s\" %(li.coor1, li.coor2)\n",
    "print \"The distance between the points are %f\" %(li.distance())\n",
    "print \"The slope of the line is %f\" %(li.slope())"
   ]
  },
  {
   "cell_type": "markdown",
   "metadata": {},
   "source": [
    "________\n",
    "####Problem 2"
   ]
  },
  {
   "cell_type": "markdown",
   "metadata": {},
   "source": [
    "Fill in the class "
   ]
  },
  {
   "cell_type": "code",
   "execution_count": 60,
   "metadata": {
    "collapsed": true
   },
   "outputs": [],
   "source": [
    "import math\n",
    "class Cylinder(object):\n",
    "    \n",
    "    def __init__(self,height=1,radius=1):\n",
    "        self.height = height \n",
    "        self.radius = radius \n",
    "        \n",
    "    def volume(self):\n",
    "        \"\"\"\n",
    "        Returns the volume of a Cylinder\n",
    "        V = pi * r^2 * h \n",
    "        \"\"\"\n",
    "        return math.pi * self.radius**2 * self.height\n",
    "    \n",
    "    def surface_area(self):\n",
    "        \"\"\"\n",
    "        Returns the surface area of a Cylinder \n",
    "        A = (2 * pi * r * h) + (2 * pi * r^2) \n",
    "        \"\"\"\n",
    "        return (2 * math.pi * self.radius * self.height) + (2 * math.pi * self.radius**2) "
   ]
  },
  {
   "cell_type": "code",
   "execution_count": 78,
   "metadata": {
    "collapsed": true
   },
   "outputs": [],
   "source": [
    "# EXAMPLE OUTPUT\n",
    "c = Cylinder(2,3)"
   ]
  },
  {
   "cell_type": "code",
   "execution_count": 79,
   "metadata": {},
   "outputs": [
    {
     "data": {
      "text/plain": [
       "56.548667764616276"
      ]
     },
     "execution_count": 79,
     "metadata": {},
     "output_type": "execute_result"
    }
   ],
   "source": [
    "c.volume()"
   ]
  },
  {
   "cell_type": "code",
   "execution_count": 80,
   "metadata": {},
   "outputs": [
    {
     "data": {
      "text/plain": [
       "94.24777960769379"
      ]
     },
     "execution_count": 80,
     "metadata": {},
     "output_type": "execute_result"
    }
   ],
   "source": [
    "c.surface_area()"
   ]
  },
  {
   "cell_type": "code",
   "execution_count": 64,
   "metadata": {},
   "outputs": [
    {
     "data": {
      "text/plain": [
       "42"
      ]
     },
     "execution_count": 64,
     "metadata": {},
     "output_type": "execute_result"
    }
   ],
   "source": [
    "c.height"
   ]
  },
  {
   "cell_type": "code",
   "execution_count": 65,
   "metadata": {},
   "outputs": [
    {
     "data": {
      "text/plain": [
       "3"
      ]
     },
     "execution_count": 65,
     "metadata": {},
     "output_type": "execute_result"
    }
   ],
   "source": [
    "c.radius"
   ]
  },
  {
   "cell_type": "code",
   "execution_count": null,
   "metadata": {
    "collapsed": true
   },
   "outputs": [],
   "source": []
  }
 ],
 "metadata": {
  "kernelspec": {
   "display_name": "Python 2",
   "language": "python",
   "name": "python2"
  },
  "language_info": {
   "codemirror_mode": {
    "name": "ipython",
    "version": 2
   },
   "file_extension": ".py",
   "mimetype": "text/x-python",
   "name": "python",
   "nbconvert_exporter": "python",
   "pygments_lexer": "ipython2",
   "version": "2.7.13"
  }
 },
 "nbformat": 4,
 "nbformat_minor": 1
}
